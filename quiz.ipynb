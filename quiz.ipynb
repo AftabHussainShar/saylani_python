{
 "cells": [
  {
   "cell_type": "code",
   "execution_count": 8,
   "metadata": {},
   "outputs": [
    {
     "name": "stdout",
     "output_type": "stream",
     "text": [
      "[('John', 30001.8), ('Alice', 36001.88), ('Bob', 27001.68), ('Emma', 33001.84), ('James', 28801.76)]\n",
      "Heighest Score :  ('Alice', 36001.88)\n"
     ]
    }
   ],
   "source": [
    "# Sceniro 1: Calculate the scores of employees based on their sales and satisfaction ratings\n",
    "employees = [\n",
    "(\"John\", 50000, 4.5),\n",
    "(\"Alice\", 60000, 4.7),\n",
    "(\"Bob\", 45000, 4.2),\n",
    "(\"Emma\", 55000, 4.6),\n",
    "(\"James\", 48000, 4.4)\n",
    "]\n",
    "\n",
    "sales_weight = 0.6\n",
    "satisfaction_weight = 0.4\n",
    "scores = [(name, (sales * sales_weight) + (rating * satisfaction_weight)) for name, sales, rating in employees]\n",
    "print(scores)\n",
    "print(\"Heighest Score : \",max(scores, key=lambda x: x[1]))"
   ]
  },
  {
   "cell_type": "code",
   "execution_count": 4,
   "metadata": {},
   "outputs": [
    {
     "name": "stdout",
     "output_type": "stream",
     "text": [
      "[4, 256, 46656, 16777216, 10000000000]\n"
     ]
    }
   ],
   "source": [
    "# Sceniro 2: Calculate the square root of the numbers in the list\n",
    "numbers = [1,2,3,4,5,6,7,8,9,10]\n",
    "numbers = [x for x in numbers if x % 2 == 0]\n",
    "square_root = [x**x for x in numbers]\n",
    "print(square_root)"
   ]
  },
  {
   "cell_type": "code",
   "execution_count": null,
   "metadata": {},
   "outputs": [],
   "source": [
    "# Scenario 3: Temperature Converter\n",
    "\n",
    "def temperature_converter():\n",
    "    print(\"Select conversion type:\")\n",
    "    print(\"1. Celsius to Fahrenheit\")\n",
    "    print(\"2. Fahrenheit to Celsius\")\n",
    "\n",
    "    choice = input(\"Enter choice (1/2): \")\n",
    "\n",
    "    if choice == '1':\n",
    "        celsius = float(input(\"Enter temperature in Celsius: \"))\n",
    "        fahrenheit = (celsius * 9/5) + 32\n",
    "        print(f'Temperature in Fahrenheit: {fahrenheit}')\n",
    "    elif choice == '2':\n",
    "        fahrenheit = float(input(\"Enter temperature in Fahrenheit: \"))\n",
    "        celsius = (fahrenheit - 32) * 5/9\n",
    "        print(f'Temperature in Celsius: {celsius}')\n",
    "    else:\n",
    "        print(\"Invalid choice\")\n",
    "\n",
    "temperature_converter()\n"
   ]
  },
  {
   "cell_type": "code",
   "execution_count": null,
   "metadata": {},
   "outputs": [],
   "source": [
    "# Scenario 4: Contact List Manager\n",
    "\n",
    "def contact_list_manager():\n",
    "    contacts = {}\n",
    "\n",
    "    while True:\n",
    "        print(\"1. Add Contact\")\n",
    "        print(\"2. View Contacts\")\n",
    "        print(\"3. Exit\")\n",
    "        choice = input(\"Enter choice (1/2/3): \")\n",
    "\n",
    "        if choice == '1':\n",
    "            name = input(\"Enter contact name: \")\n",
    "            phone = input(\"Enter phone number: \")\n",
    "            contacts[name] = phone\n",
    "            print(\"Contact added.\")\n",
    "            contact_list_manager()\n",
    "        elif choice == '2':\n",
    "            if contacts:\n",
    "                for name, phone in contacts.items():\n",
    "                    print(f\"Name: {name}, Phone: {phone}\")\n",
    "                    contact_list_manager()\n",
    "            else:\n",
    "                print(\"No contacts available.\")\n",
    "                contact_list_manager()\n",
    "        elif choice == '3':\n",
    "            break\n",
    "        else:\n",
    "            print(\"Invalid choice\")\n",
    "\n",
    "contact_list_manager()\n"
   ]
  },
  {
   "cell_type": "code",
   "execution_count": 1,
   "metadata": {},
   "outputs": [
    {
     "name": "stdout",
     "output_type": "stream",
     "text": [
      "1. Add Grocery\n",
      "2. View Grocery\n",
      "3. Exit\n",
      "Grocery added.\n",
      "1. Add Grocery\n",
      "2. View Grocery\n",
      "3. Exit\n",
      "Name: Mango , ty: 12\n",
      "1. Add Grocery\n",
      "2. View Grocery\n",
      "3. Exit\n"
     ]
    }
   ],
   "source": [
    "# Scenario 5: Shopping List Grocery\n",
    "Grocery = {}\n",
    "def shoping_list():\n",
    "    while True:\n",
    "        print(\"1. Add Grocery\")\n",
    "        print(\"2. View Grocery\")\n",
    "        print(\"3. Exit\")\n",
    "        choice = input(\"Enter choice (1/2/3): \")\n",
    "\n",
    "        if choice == '1':\n",
    "            name = input(\"Enter Grocery name: \")\n",
    "            qty = input(\"Enter qty number: \")\n",
    "            Grocery[name] = qty\n",
    "            print(\"Grocery added.\")\n",
    "            shoping_list()\n",
    "        elif choice == '2':\n",
    "            if Grocery:\n",
    "                for name, qty in Grocery.items():\n",
    "                    print(f\"Name: {name}, Qty: {qty}\")\n",
    "            else:\n",
    "                print(\"No Grocery available.\")\n",
    "                shoping_list()\n",
    "        elif choice == '3':\n",
    "            break\n",
    "        else:\n",
    "            print(\"Invalid choice\")\n",
    "\n",
    "shoping_list()"
   ]
  },
  {
   "cell_type": "code",
   "execution_count": 13,
   "metadata": {},
   "outputs": [
    {
     "name": "stdout",
     "output_type": "stream",
     "text": [
      "Heighest Score of Student {'Aftab': 72.0, 'Mehtab': 54.0, 'Ali': 62.4, 'Ahmed': 66.2, 'Bilal': 69.4}\n",
      "Heighest Student: Aftab\n"
     ]
    }
   ],
   "source": [
    "# student grdes\n",
    "grades = {\n",
    "    \"Aftab\": {\"Math\": 23, \"English\": 87, \"Science\": 80, \"History\": 82, \"Urdu\": 88},\n",
    "    \"Mehtab\": {\"Math\": 56, \"English\": 34, \"Science\": 70, \"History\": 34, \"Urdu\": 76},\n",
    "    \"Ali\": {\"Math\": 34, \"English\": 82, \"Science\": 56, \"History\": 65, \"Urdu\": 75},\n",
    "    \"Ahmed\": {\"Math\": 34, \"English\": 45, \"Science\": 78, \"History\": 87, \"Urdu\": 87},\n",
    "    \"Bilal\": {\"Math\": 67, \"English\": 76, \"Science\": 55, \"History\": 57, \"Urdu\": 92}}\n",
    "\n",
    "average_grades = {student: sum(grades[student].values()) / len(grades[student]) for student in grades}\n",
    "print(\"Heighest Score of Student\", average_grades\n",
    ")\n",
    "print(\"Heighest Student:\" , max(average_grades, key=average_grades.get))"
   ]
  }
 ],
 "metadata": {
  "kernelspec": {
   "display_name": "Python 3",
   "language": "python",
   "name": "python3"
  },
  "language_info": {
   "codemirror_mode": {
    "name": "ipython",
    "version": 3
   },
   "file_extension": ".py",
   "mimetype": "text/x-python",
   "name": "python",
   "nbconvert_exporter": "python",
   "pygments_lexer": "ipython3",
   "version": "3.12.1"
  }
 },
 "nbformat": 4,
 "nbformat_minor": 2
}
